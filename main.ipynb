{
 "cells": [
  {
   "cell_type": "code",
   "execution_count": 6,
   "metadata": {},
   "outputs": [
    {
     "name": "stdout",
     "output_type": "stream",
     "text": [
      "NOTE: Array Size Should be Greater than 4\n",
      "Given Array:  ['5', '1', '31', '12', '11', '1', '0', '4', '3', '2', '7']\n",
      "Sorted Array:  [0, 1, 1, 2, 3, 4, 5, 7, 11, 12, 31]\n"
     ]
    }
   ],
   "source": [
    "import threading\n",
    "\n",
    "def merge_sort(array):\n",
    "    if len(array) > 1:\n",
    "        # Split the array into two halves\n",
    "        mid = len(array) // 2\n",
    "        left_half = array[:mid]\n",
    "        right_half = array[mid:]\n",
    "\n",
    "        # Sort the two halves in separate threads\n",
    "        left_thread1 = threading.Thread(target=merge_sort, args=(left_half,))\n",
    "        left_thread2 = threading.Thread(target=merge_sort, args=(left_half,))\n",
    "        \n",
    "        right_thread1 = threading.Thread(target=merge_sort, args=(right_half,))\n",
    "        right_thread2 = threading.Thread(target=merge_sort, args=(right_half,))\n",
    "        \n",
    "        \n",
    "        left_thread1.start()\n",
    "        left_thread2.start()\n",
    "        \n",
    "        right_thread1.start()\n",
    "        right_thread2.start()\n",
    "        \n",
    "        \n",
    "        left_thread1.join()\n",
    "        left_thread2.join()\n",
    "        \n",
    "        right_thread1.join()\n",
    "        right_thread2.join()\n",
    "        \n",
    "\n",
    "        # Merge the sorted halves\n",
    "        i = 0\n",
    "        j = 0\n",
    "        k = 0\n",
    "        \n",
    "        \n",
    "        # Copy data to temp arrays L[] and R[]\n",
    "        #Then replace the data of L[] and R[] in the Given Array arr[]\n",
    "        #if the let sub array L[] is less than right sub array R[]\n",
    "        #then arr[] = L[] else arr[] = R[] \n",
    "    \n",
    "        #Time Complexcity will remain O(n) but we dont have to create a seperate sorted array\n",
    "        #we will sort the given array by replacing its value with left and right sub array\n",
    "        #depending on their values if greater or lesser\n",
    "        \n",
    "        \n",
    "        while i < len(left_half) and j < len(right_half):\n",
    "            if left_half[i] < right_half[j]:\n",
    "                array[k] = left_half[i]\n",
    "                i += 1\n",
    "            else:\n",
    "                array[k] = right_half[j]\n",
    "                j += 1\n",
    "            k += 1\n",
    "\n",
    "        while i < len(left_half):\n",
    "            array[k] = left_half[i]\n",
    "            i += 1\n",
    "            k += 1\n",
    "\n",
    "        while j < len(right_half):\n",
    "            array[k] = right_half[j]\n",
    "            j += 1\n",
    "            k += 1\n",
    "\n",
    "# Test the function\n",
    "if __name__ == '__main__':\n",
    "    \n",
    "    print(\"NOTE: Array Size Should be Greater than 4\")\n",
    "    input_array = input('Enter an Array: (By Separated Comas) ').split(',')\n",
    "    \n",
    "    if len(input_array)>= 4:\n",
    "        print('Given Array: ',input_array)\n",
    "        array = [int(x) for x in input_array]\n",
    "        merge_sort(array)\n",
    "        print(\"Sorted Array: \",array)\n",
    "    else: \n",
    "        print(\"ERROR: Array Size Should Be Grater than 4\")  "
   ]
  }
 ],
 "metadata": {
  "kernelspec": {
   "display_name": "base",
   "language": "python",
   "name": "python3"
  },
  "language_info": {
   "codemirror_mode": {
    "name": "ipython",
    "version": 3
   },
   "file_extension": ".py",
   "mimetype": "text/x-python",
   "name": "python",
   "nbconvert_exporter": "python",
   "pygments_lexer": "ipython3",
   "version": "3.9.13"
  },
  "orig_nbformat": 4,
  "vscode": {
   "interpreter": {
    "hash": "5e4fbbb92afc2f16f8974ad31d103d6d98e32c6182d88fb3291f933f14474b83"
   }
  }
 },
 "nbformat": 4,
 "nbformat_minor": 2
}
