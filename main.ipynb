{
 "cells": [
  {
   "cell_type": "code",
   "execution_count": 1,
   "metadata": {},
   "outputs": [
    {
     "name": "stdout",
     "output_type": "stream",
     "text": [
      "[5, 6, 7, 11, 12, 13]\n"
     ]
    }
   ],
   "source": [
    "import threading\n",
    "\n",
    "def merge(arr, l, m, r):\n",
    "    n1 = m - l + 1\n",
    "    n2 = r - m\n",
    " \n",
    "    L = [0] * (n1)\n",
    "    R = [0] * (n2)\n",
    " \n",
    "    for i in range(0 , n1):\n",
    "        L[i] = arr[l + i]\n",
    " \n",
    "    for j in range(0 , n2):\n",
    "        R[j] = arr[m + 1 + j]\n",
    " \n",
    "    i = 0    \n",
    "    j = 0    \n",
    "    k = l    \n",
    " \n",
    "    while i < n1 and j < n2 :\n",
    "        if L[i] <= R[j]:\n",
    "            arr[k] = L[i]\n",
    "            i += 1\n",
    "        else:\n",
    "            arr[k] = R[j]\n",
    "            j += 1\n",
    "        k += 1\n",
    " \n",
    "    while i < n1:\n",
    "        arr[k] = L[i]\n",
    "        i += 1\n",
    "        k += 1\n",
    " \n",
    "    while j < n2:\n",
    "        arr[k] = R[j]\n",
    "        j += 1\n",
    "        k += 1\n",
    "\n",
    "def merge_sort(arr, l, r):\n",
    "    if l < r:\n",
    "        m = (l+(r-1))//2\n",
    " \n",
    "        t1 = threading.Thread(target=merge_sort, args=(arr, l, m))\n",
    "        t2 = threading.Thread(target=merge_sort, args=(arr, m+1, r))\n",
    "        t3 = threading.Thread(target=merge_sort, args=(arr, m+1, r))\n",
    "        t4 = threading.Thread(target=merge_sort, args=(arr, m+1, r))\n",
    "        \n",
    "        t1.start()\n",
    "        t2.start()\n",
    "        t3.start()\n",
    "        t4.start()\n",
    " \n",
    "        \n",
    "        \n",
    "        \n",
    "        t1.join()\n",
    "        t2.join()\n",
    "        t3.join()\n",
    "        t4.join()\n",
    "        \n",
    "        merge(arr, l, m, r)\n",
    "\n",
    "def sort(arr):\n",
    "    l = 0\n",
    "    r = len(arr) - 1\n",
    "    merge_sort(arr, l, r)\n",
    "\n",
    "# Test the multithreaded merge sort function\n",
    "\n",
    "arr = [12, 11, 13, 5, 6, 7]\n",
    "sort(arr)\n",
    "print(arr)\n"
   ]
  }
 ],
 "metadata": {
  "kernelspec": {
   "display_name": "base",
   "language": "python",
   "name": "python3"
  },
  "language_info": {
   "codemirror_mode": {
    "name": "ipython",
    "version": 3
   },
   "file_extension": ".py",
   "mimetype": "text/x-python",
   "name": "python",
   "nbconvert_exporter": "python",
   "pygments_lexer": "ipython3",
   "version": "3.9.13 (main, Aug 25 2022, 23:51:50) [MSC v.1916 64 bit (AMD64)]"
  },
  "orig_nbformat": 4,
  "vscode": {
   "interpreter": {
    "hash": "5e4fbbb92afc2f16f8974ad31d103d6d98e32c6182d88fb3291f933f14474b83"
   }
  }
 },
 "nbformat": 4,
 "nbformat_minor": 2
}
